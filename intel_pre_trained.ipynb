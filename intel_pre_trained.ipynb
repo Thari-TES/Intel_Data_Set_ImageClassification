{
 "cells": [
  {
   "cell_type": "code",
   "execution_count": 1,
   "metadata": {},
   "outputs": [],
   "source": [
    "import cv2 as cv\n",
    "import numpy as np\n",
    "import pandas as pd\n",
    "import tensorflow as tf"
   ]
  },
  {
   "cell_type": "code",
   "execution_count": 5,
   "metadata": {},
   "outputs": [
    {
     "name": "stdout",
     "output_type": "stream",
     "text": [
      "Found 2553 images belonging to 6 classes.\n",
      "Found 14034 images belonging to 6 classes.\n",
      "Found 2102 images belonging to 6 classes.\n"
     ]
    }
   ],
   "source": [
    "train_datagen = tf.keras.preprocessing.image.ImageDataGenerator(\n",
    "                                                                #rescale = 1/255.0,  # Rescale... 0 to 1 .. 0 is white colors and 1 is black colors\n",
    "                                                                rotation_range=20,\n",
    "                                                                width_shift_range=0.2,\n",
    "                                                                height_shift_range=0.20,\n",
    "                                                                horizontal_flip=True,\n",
    "                                                                vertical_flip=True,\n",
    "                                                                validation_split=0.15, # dont need a validate data generator\n",
    "                                                                preprocessing_function=tf.keras.applications.inception_v3.preprocess_input\n",
    "                                                                )\n",
    "\n",
    "\n",
    "\n",
    "test_datagen = tf.keras.preprocessing.image.ImageDataGenerator(\n",
    "                                                                #rescale = 1/255.0,  # Rescale... 0 to 1 .. 0 is white colors and 1 is black colors\n",
    "                                                                rotation_range=20,\n",
    "                                                                width_shift_range=0.2,\n",
    "                                                                height_shift_range=0.20,\n",
    "                                                                horizontal_flip=True,\n",
    "                                                                vertical_flip=True,\n",
    "                                                                validation_split=0.15,\n",
    "                                                                preprocessing_function=tf.keras.applications.inception_v3.preprocess_input\n",
    "                                                                )\n",
    "\n",
    "\n",
    "train_generator = train_datagen.flow_from_directory(\n",
    "                                                    directory='seg_test',\n",
    "                                                    target_size=(224, 224),\n",
    "                                                    batch_size=12,\n",
    "                                                    class_mode='categorical',\n",
    "                                                    subset='training', # we split the trian data set. thats why we need this\n",
    "                                                    shuffle=True,\n",
    "                                                    seed=42\n",
    "                                                    )\n",
    "\n",
    "test_generator = test_datagen.flow_from_directory(\n",
    "                                                    directory='seg_train',\n",
    "                                                    target_size=(224, 224),\n",
    "                                                    batch_size=12,\n",
    "                                                    class_mode='categorical',\n",
    "                                                    shuffle=True,\n",
    "                                                    seed=42\n",
    "                                                    )\n",
    "\n",
    "valid_generator = train_datagen.flow_from_directory (\n",
    "    \n",
    "                                                    directory='seg_train',\n",
    "                                                    target_size=(224, 224),\n",
    "                                                    batch_size=12,\n",
    "                                                    class_mode='categorical',\n",
    "                                                    subset='validation',\n",
    "                                                    shuffle=True,\n",
    "                                                    seed=42\n",
    "                                                                    \n",
    "                                                            \n",
    "    \n",
    ")\n"
   ]
  },
  {
   "cell_type": "code",
   "execution_count": 7,
   "metadata": {},
   "outputs": [
    {
     "name": "stdout",
     "output_type": "stream",
     "text": [
      "Downloading data from https://storage.googleapis.com/tensorflow/keras-applications/inception_v3/inception_v3_weights_tf_dim_ordering_tf_kernels_notop.h5\n",
      "87910968/87910968 [==============================] - 79s 1us/step\n"
     ]
    }
   ],
   "source": [
    "pretrained_model = tf.keras.applications.InceptionV3(\n",
    "                                                        include_top=False, # should be false when we use custom inputshape\n",
    "                                                        weights=\"imagenet\",\n",
    "                                                        input_shape=(224,224,3)\n",
    "                                                    )\n"
   ]
  },
  {
   "cell_type": "code",
   "execution_count": 10,
   "metadata": {},
   "outputs": [
    {
     "name": "stdout",
     "output_type": "stream",
     "text": [
      "Model: \"model_1\"\n",
      "_________________________________________________________________\n",
      " Layer (type)                Output Shape              Param #   \n",
      "=================================================================\n",
      " input_3 (InputLayer)        [(None, 224, 224, 3)]     0         \n",
      "                                                                 \n",
      " inception_v3 (Functional)   (None, 5, 5, 2048)        21802784  \n",
      "                                                                 \n",
      " global_average_pooling2d_1  (None, 2048)              0         \n",
      "  (GlobalAveragePooling2D)                                       \n",
      "                                                                 \n",
      " dropout_3 (Dropout)         (None, 2048)              0         \n",
      "                                                                 \n",
      " dense_3 (Dense)             (None, 512)               1049088   \n",
      "                                                                 \n",
      " dropout_4 (Dropout)         (None, 512)               0         \n",
      "                                                                 \n",
      " dense_4 (Dense)             (None, 256)               131328    \n",
      "                                                                 \n",
      " dropout_5 (Dropout)         (None, 256)               0         \n",
      "                                                                 \n",
      " dense_5 (Dense)             (None, 6)                 1542      \n",
      "                                                                 \n",
      "=================================================================\n",
      "Total params: 22984742 (87.68 MB)\n",
      "Trainable params: 1181958 (4.51 MB)\n",
      "Non-trainable params: 21802784 (83.17 MB)\n",
      "_________________________________________________________________\n"
     ]
    }
   ],
   "source": [
    "pretrained_model.trainable = False\n",
    "inputs = tf.keras.Input(shape=(224, 224, 3))\n",
    "x = pretrained_model(inputs, training=True)\n",
    "\n",
    "x = tf.keras.layers.GlobalAveragePooling2D()(x)\n",
    "x = tf.keras.layers.Dropout(0.2)(x)\n",
    "\n",
    "x = tf.keras.layers.Dense(512, activation='relu')(x)\n",
    "x = tf.keras.layers.Dropout(0.5)(x)\n",
    "\n",
    "x = tf.keras.layers.Dense(256, activation='relu')(x)\n",
    "x = tf.keras.layers.Dropout(0.5)(x)\n",
    "\n",
    "outputs = tf.keras.layers.Dense(6, activation='softmax')(x) # output classes\n",
    "\n",
    "model = tf.keras.Model(inputs=inputs, outputs=outputs)\n",
    "model.summary()"
   ]
  },
  {
   "cell_type": "code",
   "execution_count": 11,
   "metadata": {},
   "outputs": [
    {
     "name": "stdout",
     "output_type": "stream",
     "text": [
      "Epoch 1/10\n",
      "213/213 [==============================] - 146s 672ms/step - loss: 1.4544 - accuracy: 0.4685 - val_loss: 0.7061 - val_accuracy: 0.7179\n",
      "Epoch 2/10\n",
      "213/213 [==============================] - 91s 429ms/step - loss: 0.8596 - accuracy: 0.6608 - val_loss: 0.5526 - val_accuracy: 0.8030\n",
      "Epoch 3/10\n",
      "213/213 [==============================] - 91s 429ms/step - loss: 0.7549 - accuracy: 0.7070 - val_loss: 0.5319 - val_accuracy: 0.7978\n",
      "Epoch 4/10\n",
      "213/213 [==============================] - 90s 423ms/step - loss: 0.7468 - accuracy: 0.7121 - val_loss: 0.5431 - val_accuracy: 0.8030\n",
      "Epoch 5/10\n",
      "213/213 [==============================] - 88s 411ms/step - loss: 0.6949 - accuracy: 0.7278 - val_loss: 0.5157 - val_accuracy: 0.8187\n",
      "Epoch 6/10\n",
      "213/213 [==============================] - 84s 394ms/step - loss: 0.6368 - accuracy: 0.7583 - val_loss: 0.5452 - val_accuracy: 0.7945\n",
      "Epoch 7/10\n",
      "213/213 [==============================] - 84s 393ms/step - loss: 0.6326 - accuracy: 0.7599 - val_loss: 0.4947 - val_accuracy: 0.8183\n",
      "Epoch 8/10\n",
      "213/213 [==============================] - 83s 392ms/step - loss: 0.6458 - accuracy: 0.7568 - val_loss: 0.5116 - val_accuracy: 0.8049\n",
      "Epoch 9/10\n",
      "213/213 [==============================] - 116s 545ms/step - loss: 0.6301 - accuracy: 0.7615 - val_loss: 0.5018 - val_accuracy: 0.8092\n",
      "Epoch 10/10\n",
      "213/213 [==============================] - 84s 395ms/step - loss: 0.6023 - accuracy: 0.7693 - val_loss: 0.5321 - val_accuracy: 0.7716\n"
     ]
    },
    {
     "data": {
      "text/plain": [
       "<keras.src.callbacks.History at 0x175d617f0>"
      ]
     },
     "execution_count": 11,
     "metadata": {},
     "output_type": "execute_result"
    }
   ],
   "source": [
    "model.compile(\n",
    "            loss = 'categorical_crossentropy',\n",
    "            optimizer = 'adam',\n",
    "            metrics=['accuracy']\n",
    "            )\n",
    "\n",
    "model.fit(\n",
    "        train_generator,\n",
    "        validation_data= valid_generator,\n",
    "        epochs=10\n",
    "        )"
   ]
  },
  {
   "cell_type": "code",
   "execution_count": 12,
   "metadata": {},
   "outputs": [],
   "source": [
    "class_dict = train_generator.class_indices\n",
    "class_dict_rev = {v : k for k, v in class_dict.items()}"
   ]
  },
  {
   "cell_type": "code",
   "execution_count": 16,
   "metadata": {},
   "outputs": [
    {
     "name": "stdout",
     "output_type": "stream",
     "text": [
      "1/1 [==============================] - 0s 51ms/step\n"
     ]
    },
    {
     "data": {
      "text/plain": [
       "('street', 0.96313787)"
      ]
     },
     "execution_count": 16,
     "metadata": {},
     "output_type": "execute_result"
    }
   ],
   "source": [
    "def inference(image_path, model):\n",
    "    img = cv.imread(image_path)\n",
    "    img = cv.cvtColor(img, cv.COLOR_BGR2RGB)\n",
    "    img = cv.resize(img, (224, 224))\n",
    "    img = img / 255.0\n",
    "    img = np.array([img])\n",
    "    P = model.predict(img).squeeze()\n",
    "    class_ = P.argmax()\n",
    "    return class_dict_rev[class_], P.max()\n",
    "\n",
    "\n",
    "inference('seg_pred/seg_pred/3.jpg', model)"
   ]
  },
  {
   "cell_type": "code",
   "execution_count": null,
   "metadata": {},
   "outputs": [],
   "source": []
  }
 ],
 "metadata": {
  "kernelspec": {
   "display_name": "Mlclass",
   "language": "python",
   "name": "python3"
  },
  "language_info": {
   "codemirror_mode": {
    "name": "ipython",
    "version": 3
   },
   "file_extension": ".py",
   "mimetype": "text/x-python",
   "name": "python",
   "nbconvert_exporter": "python",
   "pygments_lexer": "ipython3",
   "version": "3.8.17"
  },
  "orig_nbformat": 4
 },
 "nbformat": 4,
 "nbformat_minor": 2
}
